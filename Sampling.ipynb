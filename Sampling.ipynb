{
 "cells": [
  {
   "cell_type": "code",
   "execution_count": 6,
   "metadata": {},
   "outputs": [
    {
     "data": {
      "text/plain": [
       "'CheckedOut'"
      ]
     },
     "execution_count": 6,
     "metadata": {},
     "output_type": "execute_result"
    }
   ],
   "source": [
    "import arcpy\n",
    "from arcpy import env\n",
    "from arcpy.sa import *\n",
    "import os\n",
    "import glob\n",
    "arcpy.CheckOutExtension(\"Spatial\")"
   ]
  },
  {
   "cell_type": "code",
   "execution_count": 7,
   "metadata": {},
   "outputs": [],
   "source": [
    "arcpy.env.workspace = \"F:/MonthlyComp\" \n",
    "arcpy.env.overwriteOutput = True"
   ]
  },
  {
   "cell_type": "code",
   "execution_count": 8,
   "metadata": {},
   "outputs": [],
   "source": [
    "OutputFolder = \"F:/MonthlyComp\""
   ]
  },
  {
   "cell_type": "code",
   "execution_count": 9,
   "metadata": {},
   "outputs": [
    {
     "data": {
      "text/plain": [
       "['F:/MonthlyComp\\\\2006_R',\n",
       " 'F:/MonthlyComp\\\\2007_R',\n",
       " 'F:/MonthlyComp\\\\2008_R',\n",
       " 'F:/MonthlyComp\\\\2009_R',\n",
       " 'F:/MonthlyComp\\\\2010_R',\n",
       " 'F:/MonthlyComp\\\\2011_R',\n",
       " 'F:/MonthlyComp\\\\2012_R',\n",
       " 'F:/MonthlyComp\\\\2013_R',\n",
       " 'F:/MonthlyComp\\\\2014_R',\n",
       " 'F:/MonthlyComp\\\\2015_R']"
      ]
     },
     "execution_count": 9,
     "metadata": {},
     "output_type": "execute_result"
    }
   ],
   "source": [
    "import glob\n",
    "all_dirs = glob.glob('F:/MonthlyComp/**')\n",
    "dirs = [directory for directory in all_dirs if \"_R\" in directory]\n",
    "dirs"
   ]
  },
  {
   "cell_type": "code",
   "execution_count": 10,
   "metadata": {},
   "outputs": [
    {
     "name": "stdout",
     "output_type": "stream",
     "text": [
      "Done\n"
     ]
    }
   ],
   "source": [
    "for directory in dirs:\n",
    "    table_name = directory.split(\"\\\\\")[1]\n",
    "    outTable = f\"F:/MonthlyComp/{table_name}/{table_name}.dbf\"\n",
    "    locations = \"F:/MonthlyComp/SiteGPS.shp\"\n",
    "    sampMethod = \"NEAREST\"\n",
    "#    inRasters = arcpy.ListRasters(f'F:/MonthlyComp/{directory}\\**\\*.tif')\n",
    "    inRasters = glob.glob(f'{directory}/*.tif')\n",
    "#    print(inRasters)\n",
    "    Sample(inRasters, locations, outTable, sampMethod)\n",
    "print (\"Done\")"
   ]
  },
  {
   "cell_type": "code",
   "execution_count": 57,
   "metadata": {},
   "outputs": [],
   "source": []
  },
  {
   "cell_type": "code",
   "execution_count": null,
   "metadata": {
    "scrolled": true
   },
   "outputs": [],
   "source": []
  },
  {
   "cell_type": "code",
   "execution_count": 59,
   "metadata": {},
   "outputs": [
    {
     "name": "stdout",
     "output_type": "stream",
     "text": [
      "Done\n"
     ]
    }
   ],
   "source": []
  },
  {
   "cell_type": "code",
   "execution_count": null,
   "metadata": {},
   "outputs": [],
   "source": []
  },
  {
   "cell_type": "code",
   "execution_count": null,
   "metadata": {},
   "outputs": [],
   "source": []
  },
  {
   "cell_type": "code",
   "execution_count": null,
   "metadata": {},
   "outputs": [],
   "source": []
  }
 ],
 "metadata": {
  "kernelspec": {
   "display_name": "Python 3",
   "language": "python",
   "name": "python3"
  },
  "language_info": {
   "codemirror_mode": {
    "name": "ipython",
    "version": 3
   },
   "file_extension": ".py",
   "mimetype": "text/x-python",
   "name": "python",
   "nbconvert_exporter": "python",
   "pygments_lexer": "ipython3",
   "version": "3.6.9"
  }
 },
 "nbformat": 4,
 "nbformat_minor": 2
}
